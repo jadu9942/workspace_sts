{
 "cells": [
  {
   "cell_type": "markdown",
   "metadata": {},
   "source": [
    "### maria db 연결하기\n",
    "+ maria db 연결 위해 라이브러리 설치\n",
    "+ pip install pymysql \n",
    "+ 설치한 라이브러리를 import하여 사용  -> import pymysql"
   ]
  },
  {
   "cell_type": "code",
   "execution_count": 2,
   "metadata": {},
   "outputs": [],
   "source": [
    "import pymysql"
   ]
  },
  {
   "cell_type": "code",
   "execution_count": 24,
   "metadata": {},
   "outputs": [],
   "source": [
    "# 1. 파이썬에 디비 연결\n",
    "conn =pymysql.connect(host='localhost', user='study_user', password='mariadb',db='study_db',charset='utf8')"
   ]
  },
  {
   "cell_type": "code",
   "execution_count": 13,
   "metadata": {},
   "outputs": [
    {
     "name": "stdout",
     "output_type": "stream",
     "text": [
      "[{'EMPNO': 1001, 'ENAME': '김사랑', 'JOB': '사원', 'MGR': 1013, 'HIREDATE': datetime.datetime(2007, 3, 1, 0, 0), 'SAL': 300, 'COMM': None, 'DEPTNO': 20}, {'EMPNO': 1002, 'ENAME': '한예슬', 'JOB': '대리', 'MGR': 1005, 'HIREDATE': datetime.datetime(2007, 4, 2, 0, 0), 'SAL': 250, 'COMM': 80, 'DEPTNO': 30}, {'EMPNO': 1003, 'ENAME': '오지호', 'JOB': '과장', 'MGR': 1005, 'HIREDATE': datetime.datetime(2005, 2, 10, 0, 0), 'SAL': 500, 'COMM': 100, 'DEPTNO': 30}, {'EMPNO': 1004, 'ENAME': '이병헌', 'JOB': '부장', 'MGR': 1008, 'HIREDATE': datetime.datetime(2003, 9, 2, 0, 0), 'SAL': 600, 'COMM': None, 'DEPTNO': 20}, {'EMPNO': 1005, 'ENAME': '신동협', 'JOB': '과장', 'MGR': 1005, 'HIREDATE': datetime.datetime(2005, 4, 7, 0, 0), 'SAL': 450, 'COMM': 200, 'DEPTNO': 30}, {'EMPNO': 1006, 'ENAME': '장동건', 'JOB': '부장', 'MGR': 1008, 'HIREDATE': datetime.datetime(2003, 10, 9, 0, 0), 'SAL': 480, 'COMM': None, 'DEPTNO': 30}, {'EMPNO': 1007, 'ENAME': '이문세', 'JOB': '부장', 'MGR': 1008, 'HIREDATE': datetime.datetime(2004, 1, 8, 0, 0), 'SAL': 520, 'COMM': None, 'DEPTNO': 10}, {'EMPNO': 1008, 'ENAME': '감우성', 'JOB': '차장', 'MGR': 1003, 'HIREDATE': datetime.datetime(2004, 3, 8, 0, 0), 'SAL': 500, 'COMM': 0, 'DEPTNO': 30}, {'EMPNO': 1009, 'ENAME': '안성기', 'JOB': '사장', 'MGR': None, 'HIREDATE': datetime.datetime(1996, 10, 4, 0, 0), 'SAL': 1000, 'COMM': None, 'DEPTNO': 20}, {'EMPNO': 1010, 'ENAME': '이병헌', 'JOB': '과장', 'MGR': 1003, 'HIREDATE': datetime.datetime(2005, 4, 7, 0, 0), 'SAL': 500, 'COMM': None, 'DEPTNO': 10}, {'EMPNO': 1011, 'ENAME': '조향기', 'JOB': '사원', 'MGR': 1007, 'HIREDATE': datetime.datetime(2007, 3, 1, 0, 0), 'SAL': 280, 'COMM': None, 'DEPTNO': 30}, {'EMPNO': 1012, 'ENAME': '강혜정', 'JOB': '사원', 'MGR': 1006, 'HIREDATE': datetime.datetime(2007, 8, 9, 0, 0), 'SAL': 300, 'COMM': None, 'DEPTNO': 20}, {'EMPNO': 1013, 'ENAME': '박중훈', 'JOB': '부장', 'MGR': 1003, 'HIREDATE': datetime.datetime(2002, 10, 9, 0, 0), 'SAL': 560, 'COMM': None, 'DEPTNO': 20}, {'EMPNO': 1014, 'ENAME': '조인성', 'JOB': '사원', 'MGR': 1006, 'HIREDATE': datetime.datetime(2007, 11, 9, 0, 0), 'SAL': 250, 'COMM': None, 'DEPTNO': 10}]\n"
     ]
    }
   ],
   "source": [
    "# 2. 쿼리 조회하기\n",
    "# 쿼리의 결과 및 실행되고 있는 위치 정보를 포함하는 객체\n",
    "# 리스트 안에 딕셔너리 형태로 출력됨\n",
    "cursor=conn.cursor(pymysql.cursors.DictCursor)\n",
    "\n",
    "# 실행할 쿼리\n",
    "sql= 'SELECT * FROM EMP'\n",
    "\n",
    "# 실제로 쿼리를 실행하는 함수\n",
    "# 커서에 조회된 데이터 결과있음 커서안에 실제 데이터 있고 커서에서 조회된 데이터 가져오겠다\n",
    "cursor.execute(sql)\n",
    "\n",
    "# 조회된 모든 데이터를 조회한 게 fetchall()\n",
    "# fetchone() -> 첫번째 행\n",
    "result1=cursor.fetchall()\n",
    "print(result1)"
   ]
  },
  {
   "cell_type": "code",
   "execution_count": 7,
   "metadata": {},
   "outputs": [
    {
     "name": "stdout",
     "output_type": "stream",
     "text": [
      "(1002, '한예슬', '대리', 1005, datetime.datetime(2007, 4, 2, 0, 0), 250, 80, 30)\n"
     ]
    }
   ],
   "source": [
    "# 위 fetchone 실행 후 다음 행 조회 (한 행씩 조회)\n",
    "print(cursor.fetchone())"
   ]
  },
  {
   "cell_type": "code",
   "execution_count": 8,
   "metadata": {},
   "outputs": [
    {
     "name": "stdout",
     "output_type": "stream",
     "text": [
      "((1003, '오지호', '과장', 1005, datetime.datetime(2005, 2, 10, 0, 0), 500, 100, 30), (1004, '이병헌', '부장', 1008, datetime.datetime(2003, 9, 2, 0, 0), 600, None, 20), (1005, '신동협', '과장', 1005, datetime.datetime(2005, 4, 7, 0, 0), 450, 200, 30), (1006, '장동건', '부장', 1008, datetime.datetime(2003, 10, 9, 0, 0), 480, None, 30), (1007, '이문세', '부장', 1008, datetime.datetime(2004, 1, 8, 0, 0), 520, None, 10), (1008, '감우성', '차장', 1003, datetime.datetime(2004, 3, 8, 0, 0), 500, 0, 30), (1009, '안성기', '사장', None, datetime.datetime(1996, 10, 4, 0, 0), 1000, None, 20), (1010, '이병헌', '과장', 1003, datetime.datetime(2005, 4, 7, 0, 0), 500, None, 10), (1011, '조향기', '사원', 1007, datetime.datetime(2007, 3, 1, 0, 0), 280, None, 30), (1012, '강혜정', '사원', 1006, datetime.datetime(2007, 8, 9, 0, 0), 300, None, 20), (1013, '박중훈', '부장', 1003, datetime.datetime(2002, 10, 9, 0, 0), 560, None, 20), (1014, '조인성', '사원', 1006, datetime.datetime(2007, 11, 9, 0, 0), 250, None, 10))\n"
     ]
    }
   ],
   "source": [
    "# 모든 데이터 나오는 거 아님\n",
    "# 앞에 조회된 데이터 조회 후 그 다음 행부터 모든 데이터 조회\n",
    "print(cursor.fetchall())"
   ]
  },
  {
   "cell_type": "code",
   "execution_count": 23,
   "metadata": {},
   "outputs": [],
   "source": [
    "conn.close()"
   ]
  },
  {
   "cell_type": "code",
   "execution_count": null,
   "metadata": {},
   "outputs": [],
   "source": [
    "# Tuple: 리스트랑 동일, 데이터 수정 불가\n"
   ]
  },
  {
   "cell_type": "code",
   "execution_count": 14,
   "metadata": {},
   "outputs": [
    {
     "data": {
      "text/html": [
       "<div>\n",
       "<style scoped>\n",
       "    .dataframe tbody tr th:only-of-type {\n",
       "        vertical-align: middle;\n",
       "    }\n",
       "\n",
       "    .dataframe tbody tr th {\n",
       "        vertical-align: top;\n",
       "    }\n",
       "\n",
       "    .dataframe thead th {\n",
       "        text-align: right;\n",
       "    }\n",
       "</style>\n",
       "<table border=\"1\" class=\"dataframe\">\n",
       "  <thead>\n",
       "    <tr style=\"text-align: right;\">\n",
       "      <th></th>\n",
       "      <th>EMPNO</th>\n",
       "      <th>ENAME</th>\n",
       "      <th>JOB</th>\n",
       "      <th>MGR</th>\n",
       "      <th>HIREDATE</th>\n",
       "      <th>SAL</th>\n",
       "      <th>COMM</th>\n",
       "      <th>DEPTNO</th>\n",
       "    </tr>\n",
       "  </thead>\n",
       "  <tbody>\n",
       "    <tr>\n",
       "      <th>0</th>\n",
       "      <td>1001</td>\n",
       "      <td>김사랑</td>\n",
       "      <td>사원</td>\n",
       "      <td>1013.0</td>\n",
       "      <td>2007-03-01</td>\n",
       "      <td>300</td>\n",
       "      <td>NaN</td>\n",
       "      <td>20</td>\n",
       "    </tr>\n",
       "    <tr>\n",
       "      <th>1</th>\n",
       "      <td>1002</td>\n",
       "      <td>한예슬</td>\n",
       "      <td>대리</td>\n",
       "      <td>1005.0</td>\n",
       "      <td>2007-04-02</td>\n",
       "      <td>250</td>\n",
       "      <td>80.0</td>\n",
       "      <td>30</td>\n",
       "    </tr>\n",
       "    <tr>\n",
       "      <th>2</th>\n",
       "      <td>1003</td>\n",
       "      <td>오지호</td>\n",
       "      <td>과장</td>\n",
       "      <td>1005.0</td>\n",
       "      <td>2005-02-10</td>\n",
       "      <td>500</td>\n",
       "      <td>100.0</td>\n",
       "      <td>30</td>\n",
       "    </tr>\n",
       "    <tr>\n",
       "      <th>3</th>\n",
       "      <td>1004</td>\n",
       "      <td>이병헌</td>\n",
       "      <td>부장</td>\n",
       "      <td>1008.0</td>\n",
       "      <td>2003-09-02</td>\n",
       "      <td>600</td>\n",
       "      <td>NaN</td>\n",
       "      <td>20</td>\n",
       "    </tr>\n",
       "    <tr>\n",
       "      <th>4</th>\n",
       "      <td>1005</td>\n",
       "      <td>신동협</td>\n",
       "      <td>과장</td>\n",
       "      <td>1005.0</td>\n",
       "      <td>2005-04-07</td>\n",
       "      <td>450</td>\n",
       "      <td>200.0</td>\n",
       "      <td>30</td>\n",
       "    </tr>\n",
       "    <tr>\n",
       "      <th>5</th>\n",
       "      <td>1006</td>\n",
       "      <td>장동건</td>\n",
       "      <td>부장</td>\n",
       "      <td>1008.0</td>\n",
       "      <td>2003-10-09</td>\n",
       "      <td>480</td>\n",
       "      <td>NaN</td>\n",
       "      <td>30</td>\n",
       "    </tr>\n",
       "    <tr>\n",
       "      <th>6</th>\n",
       "      <td>1007</td>\n",
       "      <td>이문세</td>\n",
       "      <td>부장</td>\n",
       "      <td>1008.0</td>\n",
       "      <td>2004-01-08</td>\n",
       "      <td>520</td>\n",
       "      <td>NaN</td>\n",
       "      <td>10</td>\n",
       "    </tr>\n",
       "    <tr>\n",
       "      <th>7</th>\n",
       "      <td>1008</td>\n",
       "      <td>감우성</td>\n",
       "      <td>차장</td>\n",
       "      <td>1003.0</td>\n",
       "      <td>2004-03-08</td>\n",
       "      <td>500</td>\n",
       "      <td>0.0</td>\n",
       "      <td>30</td>\n",
       "    </tr>\n",
       "    <tr>\n",
       "      <th>8</th>\n",
       "      <td>1009</td>\n",
       "      <td>안성기</td>\n",
       "      <td>사장</td>\n",
       "      <td>NaN</td>\n",
       "      <td>1996-10-04</td>\n",
       "      <td>1000</td>\n",
       "      <td>NaN</td>\n",
       "      <td>20</td>\n",
       "    </tr>\n",
       "    <tr>\n",
       "      <th>9</th>\n",
       "      <td>1010</td>\n",
       "      <td>이병헌</td>\n",
       "      <td>과장</td>\n",
       "      <td>1003.0</td>\n",
       "      <td>2005-04-07</td>\n",
       "      <td>500</td>\n",
       "      <td>NaN</td>\n",
       "      <td>10</td>\n",
       "    </tr>\n",
       "    <tr>\n",
       "      <th>10</th>\n",
       "      <td>1011</td>\n",
       "      <td>조향기</td>\n",
       "      <td>사원</td>\n",
       "      <td>1007.0</td>\n",
       "      <td>2007-03-01</td>\n",
       "      <td>280</td>\n",
       "      <td>NaN</td>\n",
       "      <td>30</td>\n",
       "    </tr>\n",
       "    <tr>\n",
       "      <th>11</th>\n",
       "      <td>1012</td>\n",
       "      <td>강혜정</td>\n",
       "      <td>사원</td>\n",
       "      <td>1006.0</td>\n",
       "      <td>2007-08-09</td>\n",
       "      <td>300</td>\n",
       "      <td>NaN</td>\n",
       "      <td>20</td>\n",
       "    </tr>\n",
       "    <tr>\n",
       "      <th>12</th>\n",
       "      <td>1013</td>\n",
       "      <td>박중훈</td>\n",
       "      <td>부장</td>\n",
       "      <td>1003.0</td>\n",
       "      <td>2002-10-09</td>\n",
       "      <td>560</td>\n",
       "      <td>NaN</td>\n",
       "      <td>20</td>\n",
       "    </tr>\n",
       "    <tr>\n",
       "      <th>13</th>\n",
       "      <td>1014</td>\n",
       "      <td>조인성</td>\n",
       "      <td>사원</td>\n",
       "      <td>1006.0</td>\n",
       "      <td>2007-11-09</td>\n",
       "      <td>250</td>\n",
       "      <td>NaN</td>\n",
       "      <td>10</td>\n",
       "    </tr>\n",
       "  </tbody>\n",
       "</table>\n",
       "</div>"
      ],
      "text/plain": [
       "    EMPNO ENAME JOB     MGR   HIREDATE   SAL   COMM  DEPTNO\n",
       "0    1001   김사랑  사원  1013.0 2007-03-01   300    NaN      20\n",
       "1    1002   한예슬  대리  1005.0 2007-04-02   250   80.0      30\n",
       "2    1003   오지호  과장  1005.0 2005-02-10   500  100.0      30\n",
       "3    1004   이병헌  부장  1008.0 2003-09-02   600    NaN      20\n",
       "4    1005   신동협  과장  1005.0 2005-04-07   450  200.0      30\n",
       "5    1006   장동건  부장  1008.0 2003-10-09   480    NaN      30\n",
       "6    1007   이문세  부장  1008.0 2004-01-08   520    NaN      10\n",
       "7    1008   감우성  차장  1003.0 2004-03-08   500    0.0      30\n",
       "8    1009   안성기  사장     NaN 1996-10-04  1000    NaN      20\n",
       "9    1010   이병헌  과장  1003.0 2005-04-07   500    NaN      10\n",
       "10   1011   조향기  사원  1007.0 2007-03-01   280    NaN      30\n",
       "11   1012   강혜정  사원  1006.0 2007-08-09   300    NaN      20\n",
       "12   1013   박중훈  부장  1003.0 2002-10-09   560    NaN      20\n",
       "13   1014   조인성  사원  1006.0 2007-11-09   250    NaN      10"
      ]
     },
     "execution_count": 14,
     "metadata": {},
     "output_type": "execute_result"
    }
   ],
   "source": [
    "import pandas\n",
    "\n",
    "df= pandas.DataFrame(result1)\n",
    "df"
   ]
  },
  {
   "cell_type": "code",
   "execution_count": 27,
   "metadata": {},
   "outputs": [
    {
     "name": "stdout",
     "output_type": "stream",
     "text": [
      "[]\n"
     ]
    }
   ],
   "source": [
    "# 3. insert\n",
    "cursor=conn.cursor(pymysql.cursors.DictCursor)\n",
    "\n",
    "sql =f\"INSERT INTO PYTHON_BOARD(BOARD_NUM, TITLE, WRITER, READ_CNT) VALUES (2, '테스트', 'admin',5)\"\n",
    "cursor.execute(sql)\n",
    "conn.commit()\n",
    "\n",
    "\n",
    "print(cursor.fetchall())"
   ]
  },
  {
   "cell_type": "code",
   "execution_count": 30,
   "metadata": {},
   "outputs": [],
   "source": [
    "# 키보드로 글번호, 제목, 작성자, 조회수를 입력받아 \n",
    "# 입력받은 데이터로 insert 되도록 코드를 작성하시오. \n",
    "\n",
    "boardNum= int(input('글번호 입력'))\n",
    "title= input('제목 입력')\n",
    "writer= input('작성자 입력')\n",
    "readCnt= int(input('조회수 입력'))\n",
    "\n",
    "\n",
    "\n",
    "sql =f\"INSERT INTO PYTHON_BOARD VALUES ({boardNum}, '{title}', '{writer}',{readCnt})\"\n",
    "cursor.execute(sql)\n",
    "conn.commit()"
   ]
  },
  {
   "cell_type": "code",
   "execution_count": null,
   "metadata": {},
   "outputs": [],
   "source": []
  },
  {
   "cell_type": "code",
   "execution_count": null,
   "metadata": {},
   "outputs": [],
   "source": []
  },
  {
   "cell_type": "code",
   "execution_count": null,
   "metadata": {},
   "outputs": [],
   "source": []
  },
  {
   "cell_type": "code",
   "execution_count": null,
   "metadata": {},
   "outputs": [],
   "source": []
  },
  {
   "cell_type": "code",
   "execution_count": null,
   "metadata": {},
   "outputs": [],
   "source": []
  },
  {
   "cell_type": "code",
   "execution_count": null,
   "metadata": {},
   "outputs": [],
   "source": []
  },
  {
   "cell_type": "code",
   "execution_count": null,
   "metadata": {},
   "outputs": [],
   "source": []
  },
  {
   "cell_type": "code",
   "execution_count": null,
   "metadata": {},
   "outputs": [],
   "source": []
  },
  {
   "cell_type": "code",
   "execution_count": null,
   "metadata": {},
   "outputs": [],
   "source": []
  },
  {
   "cell_type": "code",
   "execution_count": null,
   "metadata": {},
   "outputs": [],
   "source": []
  }
 ],
 "metadata": {
  "kernelspec": {
   "display_name": "Python 3",
   "language": "python",
   "name": "python3"
  },
  "language_info": {
   "codemirror_mode": {
    "name": "ipython",
    "version": 3
   },
   "file_extension": ".py",
   "mimetype": "text/x-python",
   "name": "python",
   "nbconvert_exporter": "python",
   "pygments_lexer": "ipython3",
   "version": "3.12.2"
  }
 },
 "nbformat": 4,
 "nbformat_minor": 2
}
