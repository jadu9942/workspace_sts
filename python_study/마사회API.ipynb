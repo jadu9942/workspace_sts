{
 "cells": [
  {
   "cell_type": "code",
   "execution_count": 26,
   "metadata": {},
   "outputs": [
    {
     "name": "stdout",
     "output_type": "stream",
     "text": [
      "OpenSSL 3.0.13 30 Jan 2024\n"
     ]
    }
   ],
   "source": [
    "import ssl\n",
    "print(ssl.OPENSSL_VERSION)"
   ]
  },
  {
   "cell_type": "code",
   "execution_count": 2,
   "metadata": {},
   "outputs": [],
   "source": [
    "import requests"
   ]
  },
  {
   "cell_type": "code",
   "execution_count": 48,
   "metadata": {},
   "outputs": [],
   "source": [
    "url = 'http://apis.data.go.kr/B551015/stableinsensor/getstableinsensor'\n",
    "params ={\n",
    "    'serviceKey' : 'baqeCF8cCfMx5WmtK3AwDsBzETWRJRowQPZasRdqPVrsslUXL1Ub0owA6uQSva47uIZRMAxUUZpzL9M3PWSB4A=='\n",
    "    , 'pageNo' : '1'\n",
    "    , 'numOfRows' : '10' \n",
    "    , 'mesur_dy' : '20211225'\n",
    "    , 'place_seq' : '1'\n",
    "    , '_type' : 'xml'\n",
    "    }\n",
    "\n",
    "response = requests.get(url,params=params)"
   ]
  },
  {
   "cell_type": "code",
   "execution_count": 4,
   "metadata": {},
   "outputs": [
    {
     "name": "stdout",
     "output_type": "stream",
     "text": [
      "b'<?xml version=\"1.0\" encoding=\"UTF-8\" standalone=\"yes\"?><response><header><resultCode>00</resultCode><resultMsg>NORMAL SERVICE.</resultMsg></header><body><items><item><co2>0</co2><dewPoint>7.6111</dewPoint><fireYn>N</fireYn><mesurDy>20211224</mesurDy><mesurTime>0</mesurTime><nh3>8</nh3><o2>25</o2><placeNm>\\xec\\x84\\x9c\\xec\\x9a\\xb8\\xea\\xb2\\xbd\\xeb\\xa7\\x88\\xec\\x9e\\xa5</placeNm><placeSeq>1</placeSeq><reh>79.9</reh><temper>11.12</temper></item><item><co2>0</co2><dewPoint>7.6695</dewPoint><fireYn>N</fireYn><mesurDy>20211224</mesurDy><mesurTime>2</mesurTime><nh3>8</nh3><o2>25</o2><placeNm>\\xec\\x84\\x9c\\xec\\x9a\\xb8\\xea\\xb2\\xbd\\xeb\\xa7\\x88\\xec\\x9e\\xa5</placeNm><placeSeq>1</placeSeq><reh>79.87</reh><temper>11.18</temper></item><item><co2>0</co2><dewPoint>7.6111</dewPoint><fireYn>N</fireYn><mesurDy>20211224</mesurDy><mesurTime>4</mesurTime><nh3>8</nh3><o2>25</o2><placeNm>\\xec\\x84\\x9c\\xec\\x9a\\xb8\\xea\\xb2\\xbd\\xeb\\xa7\\x88\\xec\\x9e\\xa5</placeNm><placeSeq>1</placeSeq><reh>79.69</reh><temper>11.12</temper></item><item><co2>0</co2><dewPoint>7.6695</dewPoint><fireYn>N</fireYn><mesurDy>20211224</mesurDy><mesurTime>6</mesurTime><nh3>8</nh3><o2>25</o2><placeNm>\\xec\\x84\\x9c\\xec\\x9a\\xb8\\xea\\xb2\\xbd\\xeb\\xa7\\x88\\xec\\x9e\\xa5</placeNm><placeSeq>1</placeSeq><reh>79.81</reh><temper>11.18</temper></item><item><co2>0</co2><dewPoint>7.6695</dewPoint><fireYn>N</fireYn><mesurDy>20211224</mesurDy><mesurTime>8</mesurTime><nh3>8</nh3><o2>25</o2><placeNm>\\xec\\x84\\x9c\\xec\\x9a\\xb8\\xea\\xb2\\xbd\\xeb\\xa7\\x88\\xec\\x9e\\xa5</placeNm><placeSeq>1</placeSeq><reh>79.63</reh><temper>11.18</temper></item><item><co2>0</co2><dewPoint>7.6695</dewPoint><fireYn>N</fireYn><mesurDy>20211224</mesurDy><mesurTime>10</mesurTime><nh3>8</nh3><o2>25</o2><placeNm>\\xec\\x84\\x9c\\xec\\x9a\\xb8\\xea\\xb2\\xbd\\xeb\\xa7\\x88\\xec\\x9e\\xa5</placeNm><placeSeq>1</placeSeq><reh>79.36</reh><temper>11.18</temper></item><item><co2>0</co2><dewPoint>7.6695</dewPoint><fireYn>N</fireYn><mesurDy>20211224</mesurDy><mesurTime>12</mesurTime><nh3>8</nh3><o2>25</o2><placeNm>\\xec\\x84\\x9c\\xec\\x9a\\xb8\\xea\\xb2\\xbd\\xeb\\xa7\\x88\\xec\\x9e\\xa5</placeNm><placeSeq>1</placeSeq><reh>79.08</reh><temper>11.18</temper></item><item><co2>0</co2><dewPoint>7.6111</dewPoint><fireYn>N</fireYn><mesurDy>20211224</mesurDy><mesurTime>14</mesurTime><nh3>8</nh3><o2>25</o2><placeNm>\\xec\\x84\\x9c\\xec\\x9a\\xb8\\xea\\xb2\\xbd\\xeb\\xa7\\x88\\xec\\x9e\\xa5</placeNm><placeSeq>1</placeSeq><reh>79.12</reh><temper>11.12</temper></item><item><co2>0</co2><dewPoint>7.6111</dewPoint><fireYn>N</fireYn><mesurDy>20211224</mesurDy><mesurTime>16</mesurTime><nh3>8</nh3><o2>25</o2><placeNm>\\xec\\x84\\x9c\\xec\\x9a\\xb8\\xea\\xb2\\xbd\\xeb\\xa7\\x88\\xec\\x9e\\xa5</placeNm><placeSeq>1</placeSeq><reh>79.28</reh><temper>11.12</temper></item><item><co2>0</co2><dewPoint>7.6111</dewPoint><fireYn>N</fireYn><mesurDy>20211224</mesurDy><mesurTime>18</mesurTime><nh3>8</nh3><o2>25</o2><placeNm>\\xec\\x84\\x9c\\xec\\x9a\\xb8\\xea\\xb2\\xbd\\xeb\\xa7\\x88\\xec\\x9e\\xa5</placeNm><placeSeq>1</placeSeq><reh>79.16</reh><temper>11.12</temper></item></items><numOfRows>10</numOfRows><pageNo>1</pageNo><totalCount>401</totalCount></body></response>'\n"
     ]
    }
   ],
   "source": [
    "print(response.content)"
   ]
  },
  {
   "cell_type": "code",
   "execution_count": 5,
   "metadata": {},
   "outputs": [],
   "source": [
    "import bs4"
   ]
  },
  {
   "cell_type": "code",
   "execution_count": 49,
   "metadata": {},
   "outputs": [
    {
     "name": "stdout",
     "output_type": "stream",
     "text": [
      "<?xml version=\"1.0\" encoding=\"UTF-8\" standalone=\"yes\"?><response><header><resultCode>00</resultCode><resultMsg>NORMAL SERVICE.</resultMsg></header><body><items/><numOfRows>10</numOfRows><pageNo>1</pageNo><totalCount>0</totalCount></body></response>\n"
     ]
    }
   ],
   "source": [
    "print(response.text)"
   ]
  },
  {
   "cell_type": "code",
   "execution_count": 7,
   "metadata": {},
   "outputs": [
    {
     "name": "stdout",
     "output_type": "stream",
     "text": [
      "<?xml version=\"1.0\" encoding=\"utf-8\"?>\n",
      "<response><header><resultCode>00</resultCode><resultMsg>NORMAL SERVICE.</resultMsg></header><body><items><item><co2>0</co2><dewPoint>7.6111</dewPoint><fireYn>N</fireYn><mesurDy>20211224</mesurDy><mesurTime>0</mesurTime><nh3>8</nh3><o2>25</o2><placeNm>서울경마장</placeNm><placeSeq>1</placeSeq><reh>79.9</reh><temper>11.12</temper></item><item><co2>0</co2><dewPoint>7.6695</dewPoint><fireYn>N</fireYn><mesurDy>20211224</mesurDy><mesurTime>2</mesurTime><nh3>8</nh3><o2>25</o2><placeNm>서울경마장</placeNm><placeSeq>1</placeSeq><reh>79.87</reh><temper>11.18</temper></item><item><co2>0</co2><dewPoint>7.6111</dewPoint><fireYn>N</fireYn><mesurDy>20211224</mesurDy><mesurTime>4</mesurTime><nh3>8</nh3><o2>25</o2><placeNm>서울경마장</placeNm><placeSeq>1</placeSeq><reh>79.69</reh><temper>11.12</temper></item><item><co2>0</co2><dewPoint>7.6695</dewPoint><fireYn>N</fireYn><mesurDy>20211224</mesurDy><mesurTime>6</mesurTime><nh3>8</nh3><o2>25</o2><placeNm>서울경마장</placeNm><placeSeq>1</placeSeq><reh>79.81</reh><temper>11.18</temper></item><item><co2>0</co2><dewPoint>7.6695</dewPoint><fireYn>N</fireYn><mesurDy>20211224</mesurDy><mesurTime>8</mesurTime><nh3>8</nh3><o2>25</o2><placeNm>서울경마장</placeNm><placeSeq>1</placeSeq><reh>79.63</reh><temper>11.18</temper></item><item><co2>0</co2><dewPoint>7.6695</dewPoint><fireYn>N</fireYn><mesurDy>20211224</mesurDy><mesurTime>10</mesurTime><nh3>8</nh3><o2>25</o2><placeNm>서울경마장</placeNm><placeSeq>1</placeSeq><reh>79.36</reh><temper>11.18</temper></item><item><co2>0</co2><dewPoint>7.6695</dewPoint><fireYn>N</fireYn><mesurDy>20211224</mesurDy><mesurTime>12</mesurTime><nh3>8</nh3><o2>25</o2><placeNm>서울경마장</placeNm><placeSeq>1</placeSeq><reh>79.08</reh><temper>11.18</temper></item><item><co2>0</co2><dewPoint>7.6111</dewPoint><fireYn>N</fireYn><mesurDy>20211224</mesurDy><mesurTime>14</mesurTime><nh3>8</nh3><o2>25</o2><placeNm>서울경마장</placeNm><placeSeq>1</placeSeq><reh>79.12</reh><temper>11.12</temper></item><item><co2>0</co2><dewPoint>7.6111</dewPoint><fireYn>N</fireYn><mesurDy>20211224</mesurDy><mesurTime>16</mesurTime><nh3>8</nh3><o2>25</o2><placeNm>서울경마장</placeNm><placeSeq>1</placeSeq><reh>79.28</reh><temper>11.12</temper></item><item><co2>0</co2><dewPoint>7.6111</dewPoint><fireYn>N</fireYn><mesurDy>20211224</mesurDy><mesurTime>18</mesurTime><nh3>8</nh3><o2>25</o2><placeNm>서울경마장</placeNm><placeSeq>1</placeSeq><reh>79.16</reh><temper>11.12</temper></item></items><numOfRows>10</numOfRows><pageNo>1</pageNo><totalCount>401</totalCount></body></response>\n"
     ]
    }
   ],
   "source": [
    "bs_data=bs4.BeautifulSoup(response.text,'lxml-xml')\n",
    "print(bs_data)"
   ]
  },
  {
   "cell_type": "code",
   "execution_count": 8,
   "metadata": {},
   "outputs": [
    {
     "name": "stdout",
     "output_type": "stream",
     "text": [
      "00\n"
     ]
    }
   ],
   "source": [
    "aa=bs_data.find('resultCode').text\n",
    "print(aa)"
   ]
  },
  {
   "cell_type": "code",
   "execution_count": 22,
   "metadata": {},
   "outputs": [
    {
     "name": "stdout",
     "output_type": "stream",
     "text": [
      "[<item><co2>0</co2><dewPoint>7.6111</dewPoint><fireYn>N</fireYn><mesurDy>20211224</mesurDy><mesurTime>0</mesurTime><nh3>8</nh3><o2>25</o2><placeNm>서울경마장</placeNm><placeSeq>1</placeSeq><reh>79.9</reh><temper>11.12</temper></item>, <item><co2>0</co2><dewPoint>7.6695</dewPoint><fireYn>N</fireYn><mesurDy>20211224</mesurDy><mesurTime>2</mesurTime><nh3>8</nh3><o2>25</o2><placeNm>서울경마장</placeNm><placeSeq>1</placeSeq><reh>79.87</reh><temper>11.18</temper></item>, <item><co2>0</co2><dewPoint>7.6111</dewPoint><fireYn>N</fireYn><mesurDy>20211224</mesurDy><mesurTime>4</mesurTime><nh3>8</nh3><o2>25</o2><placeNm>서울경마장</placeNm><placeSeq>1</placeSeq><reh>79.69</reh><temper>11.12</temper></item>, <item><co2>0</co2><dewPoint>7.6695</dewPoint><fireYn>N</fireYn><mesurDy>20211224</mesurDy><mesurTime>6</mesurTime><nh3>8</nh3><o2>25</o2><placeNm>서울경마장</placeNm><placeSeq>1</placeSeq><reh>79.81</reh><temper>11.18</temper></item>, <item><co2>0</co2><dewPoint>7.6695</dewPoint><fireYn>N</fireYn><mesurDy>20211224</mesurDy><mesurTime>8</mesurTime><nh3>8</nh3><o2>25</o2><placeNm>서울경마장</placeNm><placeSeq>1</placeSeq><reh>79.63</reh><temper>11.18</temper></item>, <item><co2>0</co2><dewPoint>7.6695</dewPoint><fireYn>N</fireYn><mesurDy>20211224</mesurDy><mesurTime>10</mesurTime><nh3>8</nh3><o2>25</o2><placeNm>서울경마장</placeNm><placeSeq>1</placeSeq><reh>79.36</reh><temper>11.18</temper></item>, <item><co2>0</co2><dewPoint>7.6695</dewPoint><fireYn>N</fireYn><mesurDy>20211224</mesurDy><mesurTime>12</mesurTime><nh3>8</nh3><o2>25</o2><placeNm>서울경마장</placeNm><placeSeq>1</placeSeq><reh>79.08</reh><temper>11.18</temper></item>, <item><co2>0</co2><dewPoint>7.6111</dewPoint><fireYn>N</fireYn><mesurDy>20211224</mesurDy><mesurTime>14</mesurTime><nh3>8</nh3><o2>25</o2><placeNm>서울경마장</placeNm><placeSeq>1</placeSeq><reh>79.12</reh><temper>11.12</temper></item>, <item><co2>0</co2><dewPoint>7.6111</dewPoint><fireYn>N</fireYn><mesurDy>20211224</mesurDy><mesurTime>16</mesurTime><nh3>8</nh3><o2>25</o2><placeNm>서울경마장</placeNm><placeSeq>1</placeSeq><reh>79.28</reh><temper>11.12</temper></item>, <item><co2>0</co2><dewPoint>7.6111</dewPoint><fireYn>N</fireYn><mesurDy>20211224</mesurDy><mesurTime>18</mesurTime><nh3>8</nh3><o2>25</o2><placeNm>서울경마장</placeNm><placeSeq>1</placeSeq><reh>79.16</reh><temper>11.12</temper></item>]\n"
     ]
    }
   ],
   "source": [
    "items = bs_data.findAll('item')\n",
    "print(items)"
   ]
  },
  {
   "cell_type": "code",
   "execution_count": null,
   "metadata": {},
   "outputs": [],
   "source": [
    "data = {\n",
    "    'co2':['김자바','이자바','박자바','최캐드','정캐드'],\n",
    "    'dewPoint':['자바반','자바반','자바반','캐드반','캐드반'],\n",
    "    '국어점수':[90,80,70,100,90],\n",
    "    '영어점수':[70,80,80,70,90],\n",
    "    '평균':[80.0,80.0,75.0,85.0,90.0],\n",
    "    '취미':['독서','','','요가','축구']\n",
    "}"
   ]
  },
  {
   "cell_type": "code",
   "execution_count": 43,
   "metadata": {},
   "outputs": [
    {
     "name": "stdout",
     "output_type": "stream",
     "text": [
      "{'co2': ['0', '0', '0', '0', '0', '0', '0', '0', '0', '0'], 'dewPoint': ['7.6111', '7.6695', '7.6111', '7.6695', '7.6695', '7.6695', '7.6695', '7.6111', '7.6111', '7.6111'], 'fireYn': ['N', 'N', 'N', 'N', 'N', 'N', 'N', 'N', 'N', 'N'], 'mesurDy': ['20211224', '20211224', '20211224', '20211224', '20211224', '20211224', '20211224', '20211224', '20211224', '20211224'], 'mesurTime': ['0', '2', '4', '6', '8', '10', '12', '14', '16', '18'], 'nh3': ['8', '8', '8', '8', '8', '8', '8', '8', '8', '8'], 'o2': ['25', '25', '25', '25', '25', '25', '25', '25', '25', '25'], 'placeNm': ['서울경마장', '서울경마장', '서울경마장', '서울경마장', '서울경마장', '서울경마장', '서울경마장', '서울경마장', '서울경마장', '서울경마장'], 'placeSeq': ['1', '1', '1', '1', '1', '1', '1', '1', '1', '1'], 'reh': ['79.9', '79.87', '79.69', '79.81', '79.63', '79.36', '79.08', '79.12', '79.28', '79.16'], 'temper': ['11.12', '11.18', '11.12', '11.18', '11.18', '11.18', '11.18', '11.12', '11.12', '11.12']}\n"
     ]
    }
   ],
   "source": [
    "\n",
    "\n",
    "item_list =[]\n",
    "item_list1 =[]\n",
    "item_list2 =[]\n",
    "item_list3 =[]\n",
    "item_list4 =[]\n",
    "item_list5 =[]\n",
    "item_list6 =[]\n",
    "item_list7 =[]\n",
    "item_list8 =[]\n",
    "item_list9 =[]\n",
    "item_list10 =[]\n",
    "\n",
    "for item in items :\n",
    "    item_list.append(item.find('co2').text)\n",
    "    item_list1.append(item.find('dewPoint').text)\n",
    "    item_list2.append(item.find('fireYn').text)\n",
    "    item_list3.append(item.find('mesurDy').text)\n",
    "    item_list4.append(item.find('mesurTime').text)\n",
    "    item_list5.append(item.find('nh3').text)\n",
    "    item_list6.append(item.find('o2').text)\n",
    "    item_list7.append(item.find('placeNm').text)\n",
    "    item_list8.append(item.find('placeSeq').text)\n",
    "    item_list9.append(item.find('reh').text)\n",
    "    item_list10.append(item.find('temper').text)\n",
    "\n",
    "\n",
    "\n",
    "\n",
    "# API로 가져온 데이터를 모두 저장할 딕셔너리\n",
    "dic_data = {}\n",
    "\n",
    "dic_data['co2']= item_list\n",
    "dic_data['dewPoint']= item_list1\n",
    "dic_data['fireYn']= item_list2\n",
    "dic_data['mesurDy']= item_list3\n",
    "dic_data['mesurTime']= item_list4\n",
    "dic_data['nh3']= item_list5\n",
    "dic_data['o2']= item_list6\n",
    "dic_data['placeNm']= item_list7\n",
    "dic_data['placeSeq']= item_list8\n",
    "dic_data['reh']= item_list9\n",
    "dic_data['temper']= item_list10\n",
    "\n",
    "print(dic_data) \n",
    "    "
   ]
  },
  {
   "cell_type": "code",
   "execution_count": 44,
   "metadata": {},
   "outputs": [],
   "source": [
    "import pandas as pd"
   ]
  },
  {
   "cell_type": "code",
   "execution_count": 45,
   "metadata": {},
   "outputs": [
    {
     "data": {
      "text/html": [
       "<div>\n",
       "<style scoped>\n",
       "    .dataframe tbody tr th:only-of-type {\n",
       "        vertical-align: middle;\n",
       "    }\n",
       "\n",
       "    .dataframe tbody tr th {\n",
       "        vertical-align: top;\n",
       "    }\n",
       "\n",
       "    .dataframe thead th {\n",
       "        text-align: right;\n",
       "    }\n",
       "</style>\n",
       "<table border=\"1\" class=\"dataframe\">\n",
       "  <thead>\n",
       "    <tr style=\"text-align: right;\">\n",
       "      <th></th>\n",
       "      <th>co2</th>\n",
       "      <th>dewPoint</th>\n",
       "      <th>fireYn</th>\n",
       "      <th>mesurDy</th>\n",
       "      <th>mesurTime</th>\n",
       "      <th>nh3</th>\n",
       "      <th>o2</th>\n",
       "      <th>placeNm</th>\n",
       "      <th>placeSeq</th>\n",
       "      <th>reh</th>\n",
       "      <th>temper</th>\n",
       "    </tr>\n",
       "  </thead>\n",
       "  <tbody>\n",
       "    <tr>\n",
       "      <th>0</th>\n",
       "      <td>0</td>\n",
       "      <td>7.6111</td>\n",
       "      <td>N</td>\n",
       "      <td>20211224</td>\n",
       "      <td>0</td>\n",
       "      <td>8</td>\n",
       "      <td>25</td>\n",
       "      <td>서울경마장</td>\n",
       "      <td>1</td>\n",
       "      <td>79.9</td>\n",
       "      <td>11.12</td>\n",
       "    </tr>\n",
       "    <tr>\n",
       "      <th>1</th>\n",
       "      <td>0</td>\n",
       "      <td>7.6695</td>\n",
       "      <td>N</td>\n",
       "      <td>20211224</td>\n",
       "      <td>2</td>\n",
       "      <td>8</td>\n",
       "      <td>25</td>\n",
       "      <td>서울경마장</td>\n",
       "      <td>1</td>\n",
       "      <td>79.87</td>\n",
       "      <td>11.18</td>\n",
       "    </tr>\n",
       "    <tr>\n",
       "      <th>2</th>\n",
       "      <td>0</td>\n",
       "      <td>7.6111</td>\n",
       "      <td>N</td>\n",
       "      <td>20211224</td>\n",
       "      <td>4</td>\n",
       "      <td>8</td>\n",
       "      <td>25</td>\n",
       "      <td>서울경마장</td>\n",
       "      <td>1</td>\n",
       "      <td>79.69</td>\n",
       "      <td>11.12</td>\n",
       "    </tr>\n",
       "    <tr>\n",
       "      <th>3</th>\n",
       "      <td>0</td>\n",
       "      <td>7.6695</td>\n",
       "      <td>N</td>\n",
       "      <td>20211224</td>\n",
       "      <td>6</td>\n",
       "      <td>8</td>\n",
       "      <td>25</td>\n",
       "      <td>서울경마장</td>\n",
       "      <td>1</td>\n",
       "      <td>79.81</td>\n",
       "      <td>11.18</td>\n",
       "    </tr>\n",
       "    <tr>\n",
       "      <th>4</th>\n",
       "      <td>0</td>\n",
       "      <td>7.6695</td>\n",
       "      <td>N</td>\n",
       "      <td>20211224</td>\n",
       "      <td>8</td>\n",
       "      <td>8</td>\n",
       "      <td>25</td>\n",
       "      <td>서울경마장</td>\n",
       "      <td>1</td>\n",
       "      <td>79.63</td>\n",
       "      <td>11.18</td>\n",
       "    </tr>\n",
       "    <tr>\n",
       "      <th>5</th>\n",
       "      <td>0</td>\n",
       "      <td>7.6695</td>\n",
       "      <td>N</td>\n",
       "      <td>20211224</td>\n",
       "      <td>10</td>\n",
       "      <td>8</td>\n",
       "      <td>25</td>\n",
       "      <td>서울경마장</td>\n",
       "      <td>1</td>\n",
       "      <td>79.36</td>\n",
       "      <td>11.18</td>\n",
       "    </tr>\n",
       "    <tr>\n",
       "      <th>6</th>\n",
       "      <td>0</td>\n",
       "      <td>7.6695</td>\n",
       "      <td>N</td>\n",
       "      <td>20211224</td>\n",
       "      <td>12</td>\n",
       "      <td>8</td>\n",
       "      <td>25</td>\n",
       "      <td>서울경마장</td>\n",
       "      <td>1</td>\n",
       "      <td>79.08</td>\n",
       "      <td>11.18</td>\n",
       "    </tr>\n",
       "    <tr>\n",
       "      <th>7</th>\n",
       "      <td>0</td>\n",
       "      <td>7.6111</td>\n",
       "      <td>N</td>\n",
       "      <td>20211224</td>\n",
       "      <td>14</td>\n",
       "      <td>8</td>\n",
       "      <td>25</td>\n",
       "      <td>서울경마장</td>\n",
       "      <td>1</td>\n",
       "      <td>79.12</td>\n",
       "      <td>11.12</td>\n",
       "    </tr>\n",
       "    <tr>\n",
       "      <th>8</th>\n",
       "      <td>0</td>\n",
       "      <td>7.6111</td>\n",
       "      <td>N</td>\n",
       "      <td>20211224</td>\n",
       "      <td>16</td>\n",
       "      <td>8</td>\n",
       "      <td>25</td>\n",
       "      <td>서울경마장</td>\n",
       "      <td>1</td>\n",
       "      <td>79.28</td>\n",
       "      <td>11.12</td>\n",
       "    </tr>\n",
       "    <tr>\n",
       "      <th>9</th>\n",
       "      <td>0</td>\n",
       "      <td>7.6111</td>\n",
       "      <td>N</td>\n",
       "      <td>20211224</td>\n",
       "      <td>18</td>\n",
       "      <td>8</td>\n",
       "      <td>25</td>\n",
       "      <td>서울경마장</td>\n",
       "      <td>1</td>\n",
       "      <td>79.16</td>\n",
       "      <td>11.12</td>\n",
       "    </tr>\n",
       "  </tbody>\n",
       "</table>\n",
       "</div>"
      ],
      "text/plain": [
       "  co2 dewPoint fireYn   mesurDy mesurTime nh3  o2 placeNm placeSeq    reh  \\\n",
       "0   0   7.6111      N  20211224         0   8  25   서울경마장        1   79.9   \n",
       "1   0   7.6695      N  20211224         2   8  25   서울경마장        1  79.87   \n",
       "2   0   7.6111      N  20211224         4   8  25   서울경마장        1  79.69   \n",
       "3   0   7.6695      N  20211224         6   8  25   서울경마장        1  79.81   \n",
       "4   0   7.6695      N  20211224         8   8  25   서울경마장        1  79.63   \n",
       "5   0   7.6695      N  20211224        10   8  25   서울경마장        1  79.36   \n",
       "6   0   7.6695      N  20211224        12   8  25   서울경마장        1  79.08   \n",
       "7   0   7.6111      N  20211224        14   8  25   서울경마장        1  79.12   \n",
       "8   0   7.6111      N  20211224        16   8  25   서울경마장        1  79.28   \n",
       "9   0   7.6111      N  20211224        18   8  25   서울경마장        1  79.16   \n",
       "\n",
       "  temper  \n",
       "0  11.12  \n",
       "1  11.18  \n",
       "2  11.12  \n",
       "3  11.18  \n",
       "4  11.18  \n",
       "5  11.18  \n",
       "6  11.18  \n",
       "7  11.12  \n",
       "8  11.12  \n",
       "9  11.12  "
      ]
     },
     "execution_count": 45,
     "metadata": {},
     "output_type": "execute_result"
    }
   ],
   "source": [
    "df=pd.DataFrame(dic_data)\n",
    "df"
   ]
  },
  {
   "cell_type": "code",
   "execution_count": null,
   "metadata": {},
   "outputs": [],
   "source": []
  },
  {
   "cell_type": "code",
   "execution_count": null,
   "metadata": {},
   "outputs": [],
   "source": []
  },
  {
   "cell_type": "code",
   "execution_count": null,
   "metadata": {},
   "outputs": [],
   "source": []
  },
  {
   "cell_type": "code",
   "execution_count": null,
   "metadata": {},
   "outputs": [],
   "source": []
  },
  {
   "cell_type": "code",
   "execution_count": null,
   "metadata": {},
   "outputs": [],
   "source": []
  },
  {
   "cell_type": "code",
   "execution_count": null,
   "metadata": {},
   "outputs": [],
   "source": []
  },
  {
   "cell_type": "code",
   "execution_count": null,
   "metadata": {},
   "outputs": [],
   "source": []
  },
  {
   "cell_type": "code",
   "execution_count": null,
   "metadata": {},
   "outputs": [],
   "source": []
  },
  {
   "cell_type": "code",
   "execution_count": null,
   "metadata": {},
   "outputs": [],
   "source": []
  },
  {
   "cell_type": "code",
   "execution_count": null,
   "metadata": {},
   "outputs": [],
   "source": []
  },
  {
   "cell_type": "code",
   "execution_count": null,
   "metadata": {},
   "outputs": [],
   "source": []
  },
  {
   "cell_type": "code",
   "execution_count": null,
   "metadata": {},
   "outputs": [],
   "source": []
  },
  {
   "cell_type": "code",
   "execution_count": null,
   "metadata": {},
   "outputs": [],
   "source": []
  },
  {
   "cell_type": "code",
   "execution_count": null,
   "metadata": {},
   "outputs": [],
   "source": []
  },
  {
   "cell_type": "code",
   "execution_count": null,
   "metadata": {},
   "outputs": [],
   "source": []
  },
  {
   "cell_type": "code",
   "execution_count": null,
   "metadata": {},
   "outputs": [],
   "source": []
  },
  {
   "cell_type": "code",
   "execution_count": null,
   "metadata": {},
   "outputs": [],
   "source": []
  },
  {
   "cell_type": "code",
   "execution_count": null,
   "metadata": {},
   "outputs": [],
   "source": []
  },
  {
   "cell_type": "code",
   "execution_count": null,
   "metadata": {},
   "outputs": [],
   "source": []
  },
  {
   "cell_type": "code",
   "execution_count": null,
   "metadata": {},
   "outputs": [],
   "source": []
  },
  {
   "cell_type": "code",
   "execution_count": null,
   "metadata": {},
   "outputs": [],
   "source": []
  },
  {
   "cell_type": "code",
   "execution_count": null,
   "metadata": {},
   "outputs": [],
   "source": []
  },
  {
   "cell_type": "code",
   "execution_count": null,
   "metadata": {},
   "outputs": [],
   "source": []
  },
  {
   "cell_type": "code",
   "execution_count": null,
   "metadata": {},
   "outputs": [],
   "source": []
  },
  {
   "cell_type": "code",
   "execution_count": null,
   "metadata": {},
   "outputs": [],
   "source": []
  },
  {
   "cell_type": "code",
   "execution_count": null,
   "metadata": {},
   "outputs": [],
   "source": []
  },
  {
   "cell_type": "code",
   "execution_count": null,
   "metadata": {},
   "outputs": [],
   "source": []
  },
  {
   "cell_type": "code",
   "execution_count": null,
   "metadata": {},
   "outputs": [],
   "source": []
  },
  {
   "cell_type": "code",
   "execution_count": null,
   "metadata": {},
   "outputs": [],
   "source": []
  },
  {
   "cell_type": "code",
   "execution_count": null,
   "metadata": {},
   "outputs": [],
   "source": []
  },
  {
   "cell_type": "code",
   "execution_count": null,
   "metadata": {},
   "outputs": [],
   "source": []
  },
  {
   "cell_type": "code",
   "execution_count": null,
   "metadata": {},
   "outputs": [],
   "source": []
  },
  {
   "cell_type": "code",
   "execution_count": null,
   "metadata": {},
   "outputs": [],
   "source": []
  },
  {
   "cell_type": "code",
   "execution_count": null,
   "metadata": {},
   "outputs": [],
   "source": []
  }
 ],
 "metadata": {
  "kernelspec": {
   "display_name": "Python 3",
   "language": "python",
   "name": "python3"
  },
  "language_info": {
   "codemirror_mode": {
    "name": "ipython",
    "version": 3
   },
   "file_extension": ".py",
   "mimetype": "text/x-python",
   "name": "python",
   "nbconvert_exporter": "python",
   "pygments_lexer": "ipython3",
   "version": "3.12.2"
  }
 },
 "nbformat": 4,
 "nbformat_minor": 2
}
