{
 "cells": [
  {
   "cell_type": "markdown",
   "metadata": {},
   "source": [
    "## 조건문"
   ]
  },
  {
   "cell_type": "code",
   "execution_count": 3,
   "metadata": {},
   "outputs": [
    {
     "name": "stdout",
     "output_type": "stream",
     "text": [
      "5\n",
      "10\n",
      "15\n"
     ]
    }
   ],
   "source": [
    "# if문 기본\n",
    "# 들여쓰기를 기준으로 조건문의 영역을 표현 \n",
    "if 10 > 5 : \n",
    "    print(5)\n",
    "    print(10)\n",
    "print(15)    "
   ]
  },
  {
   "cell_type": "code",
   "execution_count": null,
   "metadata": {},
   "outputs": [],
   "source": [
    "num1=10\n",
    "if num1 > 5: \n",
    "    print(1)\n",
    "else:\n",
    "    print(2)    "
   ]
  },
  {
   "cell_type": "code",
   "execution_count": 4,
   "metadata": {},
   "outputs": [
    {
     "name": "stdout",
     "output_type": "stream",
     "text": [
      "양수\n"
     ]
    }
   ],
   "source": [
    "num2 = 5\n",
    "if num2 > 0:\n",
    "    print('양수')\n",
    "elif num2 < 0:\n",
    "    print('음수')\n",
    "else:\n",
    "    print('0')"
   ]
  },
  {
   "cell_type": "code",
   "execution_count": 5,
   "metadata": {},
   "outputs": [
    {
     "name": "stdout",
     "output_type": "stream",
     "text": [
      "1\n"
     ]
    }
   ],
   "source": [
    "# 그리고(and), 이거나(or)..\n",
    "num3 = 10\n",
    "\n",
    "# num3의 값이 2의 배수이면서 5보다 크면 \n",
    "if num3 % 2 == 0 and num3 > 5:\n",
    "    print(1)"
   ]
  },
  {
   "cell_type": "code",
   "execution_count": 7,
   "metadata": {},
   "outputs": [
    {
     "name": "stdout",
     "output_type": "stream",
     "text": [
      "java\n"
     ]
    }
   ],
   "source": [
    "# 키보드로 값 입력받기\n",
    "# 숫자를 입력받아도 문자로 취급함!!!!!!\n",
    "name = input('이름을 입력하세요 : ')\n",
    "print(name)\n"
   ]
  },
  {
   "cell_type": "code",
   "execution_count": 12,
   "metadata": {},
   "outputs": [
    {
     "name": "stdout",
     "output_type": "stream",
     "text": [
      "참\n"
     ]
    }
   ],
   "source": [
    "# 문제1. 키보드로 두 수를 입력받아 두 수의 합이 5의 배수라면 참을 출력하시오.\n",
    "num_1=input('첫번째 숫자입력')\n",
    "num_2=input('두번째 숫자입력')\n",
    "sum= int(num_1)+ int(num_2)\n",
    "\n",
    "if sum%5==0:\n",
    "    print('참')"
   ]
  },
  {
   "cell_type": "code",
   "execution_count": 13,
   "metadata": {},
   "outputs": [
    {
     "name": "stdout",
     "output_type": "stream",
     "text": [
      "1\n"
     ]
    }
   ],
   "source": [
    "# 파이썬에만 존재하는 특별한 기능\n",
    "\n",
    "# ex) [1,2,3,4,5,6,7,8]에서 5가 있는지 판단\n",
    "list_1= [1,2,3,4,5,6,7,8]\n",
    "if 5 in list_1 :\n",
    "    print(1)\n",
    "\n",
    "# ex) [1,2,3,4,5,6,7,8]에서 5가 없는지 판단\n",
    "if 5 not in list_1 :\n",
    "    print(1)\n"
   ]
  },
  {
   "cell_type": "markdown",
   "metadata": {},
   "source": [
    "### 반복문 "
   ]
  },
  {
   "cell_type": "code",
   "execution_count": 17,
   "metadata": {},
   "outputs": [
    {
     "name": "stdout",
     "output_type": "stream",
     "text": [
      "1234"
     ]
    }
   ],
   "source": [
    "# range(시작 숫자, 마지막 숫자 - 1)\n",
    "for i in range(1,5):\n",
    "    print(i, end=' ')"
   ]
  },
  {
   "cell_type": "code",
   "execution_count": 18,
   "metadata": {},
   "outputs": [
    {
     "name": "stdout",
     "output_type": "stream",
     "text": [
      "0 1 2 3 4 5 6 7 8 9 "
     ]
    }
   ],
   "source": [
    "# range()함수에 숫자가 하나만 들어가면 시작 숫자가 생략된 것(0)\n",
    "for i in range(10):\n",
    "    print(i, end=' ')"
   ]
  },
  {
   "cell_type": "code",
   "execution_count": 19,
   "metadata": {},
   "outputs": [
    {
     "name": "stdout",
     "output_type": "stream",
     "text": [
      "1\n",
      "2\n",
      "3\n",
      "4\n",
      "5\n"
     ]
    }
   ],
   "source": [
    "for i in [1,2,3,4,5] :\n",
    "    print(i)"
   ]
  },
  {
   "cell_type": "code",
   "execution_count": 21,
   "metadata": {},
   "outputs": [
    {
     "name": "stdout",
     "output_type": "stream",
     "text": [
      "i=0, e=1\n",
      "i=1, e=3\n",
      "i=2, e=java\n",
      "i=3, e=홍\n",
      "i=4, e=10.5\n"
     ]
    }
   ],
   "source": [
    "list_2=[1,3,'java','홍',10.5]\n",
    "# i : 반복 횟수(0부터 시작)\n",
    "# e : 반복 하나씩 뺀 데이터\n",
    "for i, e in enumerate(list_2):\n",
    "    print(f'i={i}, e={e}')"
   ]
  },
  {
   "cell_type": "code",
   "execution_count": 28,
   "metadata": {},
   "outputs": [
    {
     "name": "stdout",
     "output_type": "stream",
     "text": [
      "55\n"
     ]
    }
   ],
   "source": [
    "# 1~10까지 합 출력\n",
    "sum_1 = 0\n",
    "for i in range(1,11):\n",
    "    sum_1= sum_1 + i\n",
    "print(sum_1)\n"
   ]
  },
  {
   "cell_type": "code",
   "execution_count": 30,
   "metadata": {},
   "outputs": [
    {
     "name": "stdout",
     "output_type": "stream",
     "text": [
      "3 6 9 12 15 18 21 24 27 30 33 36 39 42 45 48 51 54 57 60 63 66 69 72 75 78 81 84 87 90 93 96 99 \n",
      "1683\n"
     ]
    }
   ],
   "source": [
    "# 1~100 사이의 수 중 3의 배수 및 3의 배수의 합 출력\n",
    "sum_2 =0\n",
    "for i in range(1,101):\n",
    "    if i %3 ==0:\n",
    "        print(i, end=' ')\n",
    "        sum_2= sum_2+i \n",
    "print()\n",
    "print(sum_2)\n"
   ]
  },
  {
   "cell_type": "code",
   "execution_count": 31,
   "metadata": {},
   "outputs": [
    {
     "name": "stdout",
     "output_type": "stream",
     "text": [
      "\n",
      "55\n"
     ]
    }
   ],
   "source": [
    "# 키보드로 입력받은 두 수 사이의 모든 숫자의 합을 출력\n",
    "num_1 = int(input('첫번째 수:'))\n",
    "num_2 = int(input('두번째 수:'))\n",
    "\n",
    "sum_3=0\n",
    "for i in range(num_1+1, num_2):\n",
    "    sum_3 = sum_3+i\n",
    "print()\n",
    "print(sum_3)    "
   ]
  },
  {
   "cell_type": "code",
   "execution_count": null,
   "metadata": {},
   "outputs": [],
   "source": []
  },
  {
   "cell_type": "code",
   "execution_count": null,
   "metadata": {},
   "outputs": [],
   "source": []
  },
  {
   "cell_type": "code",
   "execution_count": null,
   "metadata": {},
   "outputs": [],
   "source": []
  }
 ],
 "metadata": {
  "kernelspec": {
   "display_name": "Python 3",
   "language": "python",
   "name": "python3"
  },
  "language_info": {
   "codemirror_mode": {
    "name": "ipython",
    "version": 3
   },
   "file_extension": ".py",
   "mimetype": "text/x-python",
   "name": "python",
   "nbconvert_exporter": "python",
   "pygments_lexer": "ipython3",
   "version": "3.12.2"
  }
 },
 "nbformat": 4,
 "nbformat_minor": 2
}
